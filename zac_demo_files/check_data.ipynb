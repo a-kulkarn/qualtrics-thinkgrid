{
 "cells": [
  {
   "cell_type": "code",
   "execution_count": 1,
   "metadata": {},
   "outputs": [],
   "source": [
    "import pandas as pd\n",
    "import numpy as np"
   ]
  },
  {
   "cell_type": "code",
   "execution_count": 2,
   "metadata": {},
   "outputs": [],
   "source": [
    "data = pd.read_csv('study3A.csv')"
   ]
  },
  {
   "cell_type": "code",
   "execution_count": 6,
   "metadata": {},
   "outputs": [],
   "source": [
    "# dc and ac are x and y coordinates. create a new column that combines them\n",
    "data['dc_ac'] = \"(\" + data['dc'].astype(str) + \",\" + data['ac'].astype(str) + \")\""
   ]
  },
  {
   "cell_type": "code",
   "execution_count": 8,
   "metadata": {},
   "outputs": [
    {
     "data": {
      "text/plain": [
       "dc_ac\n",
       "(6,1)    0.191176\n",
       "(1,1)    0.122995\n",
       "(1,6)    0.062834\n",
       "(5,1)    0.050802\n",
       "(6,6)    0.044118\n",
       "(2,2)    0.038770\n",
       "(4,2)    0.030749\n",
       "(2,1)    0.029412\n",
       "(1,2)    0.029412\n",
       "(5,2)    0.026738\n",
       "(4,3)    0.025401\n",
       "(3,1)    0.025401\n",
       "(4,1)    0.025401\n",
       "(2,5)    0.022727\n",
       "(1,5)    0.021390\n",
       "(5,3)    0.020053\n",
       "(3,2)    0.017380\n",
       "(3,4)    0.016043\n",
       "(1,3)    0.016043\n",
       "(6,2)    0.016043\n",
       "(5,5)    0.014706\n",
       "(3,3)    0.014706\n",
       "(4,5)    0.013369\n",
       "(2,6)    0.013369\n",
       "(2,3)    0.013369\n",
       "(5,4)    0.012032\n",
       "(1,4)    0.012032\n",
       "(4,4)    0.012032\n",
       "(6,3)    0.009358\n",
       "(3,6)    0.009358\n",
       "(3,5)    0.009358\n",
       "(6,4)    0.008021\n",
       "(2,4)    0.008021\n",
       "(6,5)    0.008021\n",
       "(5,6)    0.006684\n",
       "(4,6)    0.002674\n",
       "Name: proportion, dtype: float64"
      ]
     },
     "execution_count": 8,
     "metadata": {},
     "output_type": "execute_result"
    }
   ],
   "source": [
    "data['dc_ac'].value_counts(normalize=True)"
   ]
  },
  {
   "cell_type": "code",
   "execution_count": null,
   "metadata": {},
   "outputs": [],
   "source": []
  }
 ],
 "metadata": {
  "kernelspec": {
   "display_name": "templeton",
   "language": "python",
   "name": "python3"
  },
  "language_info": {
   "codemirror_mode": {
    "name": "ipython",
    "version": 3
   },
   "file_extension": ".py",
   "mimetype": "text/x-python",
   "name": "python",
   "nbconvert_exporter": "python",
   "pygments_lexer": "ipython3",
   "version": "3.11.8"
  }
 },
 "nbformat": 4,
 "nbformat_minor": 2
}
